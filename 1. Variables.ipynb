{
  "nbformat": 4,
  "nbformat_minor": 0,
  "metadata": {
    "colab": {
      "name": "Variables.ipynb",
      "provenance": []
    },
    "kernelspec": {
      "name": "python3",
      "display_name": "Python 3"
    },
    "language_info": {
      "name": "python"
    }
  },
  "cells": [
    {
      "cell_type": "code",
      "metadata": {
        "colab": {
          "base_uri": "https://localhost:8080/",
          "height": 131
        },
        "id": "HtlY3nwwFb16",
        "outputId": "14026076-8312-49d5-9d43-da18ee9b7681"
      },
      "source": [
        "# Create a variable called break and assign it a value 5. See what happens and find out the reason behind the behavior that you see\n",
        "break = 5\n"
      ],
      "execution_count": 5,
      "outputs": [
        {
          "output_type": "error",
          "ename": "SyntaxError",
          "evalue": "ignored",
          "traceback": [
            "\u001b[0;36m  File \u001b[0;32m\"<ipython-input-5-a63aca32a2fb>\"\u001b[0;36m, line \u001b[0;32m2\u001b[0m\n\u001b[0;31m    break = 5\u001b[0m\n\u001b[0m          ^\u001b[0m\n\u001b[0;31mSyntaxError\u001b[0m\u001b[0;31m:\u001b[0m invalid syntax\n"
          ]
        }
      ]
    },
    {
      "cell_type": "markdown",
      "metadata": {
        "id": "S9gZCzheGi-s"
      },
      "source": [
        "The break statement terminates the loop containing it."
      ]
    },
    {
      "cell_type": "code",
      "metadata": {
        "id": "kGlmdP8GGiRK"
      },
      "source": [
        "#. Create two variables. One to store your birth year and another one to store current year. Now calculate your age using these two variables\n",
        "\n"
      ],
      "execution_count": 6,
      "outputs": []
    },
    {
      "cell_type": "code",
      "metadata": {
        "colab": {
          "base_uri": "https://localhost:8080/"
        },
        "id": "LHXrWkmGGG37",
        "outputId": "70afe658-31fb-4c36-ad59-0f986d2ff987"
      },
      "source": [
        "birth_year = 1987\n",
        "current_year = 2021\n",
        "Age = current_year - birth_year\n",
        "Age"
      ],
      "execution_count": 9,
      "outputs": [
        {
          "output_type": "execute_result",
          "data": {
            "text/plain": [
              "34"
            ]
          },
          "metadata": {
            "tags": []
          },
          "execution_count": 9
        }
      ]
    },
    {
      "cell_type": "code",
      "metadata": {
        "colab": {
          "base_uri": "https://localhost:8080/",
          "height": 131
        },
        "id": "hg1j1x94GxaP",
        "outputId": "9a3eee35-80c0-4091-bbec-b95719d9e3a7"
      },
      "source": [
        "3. Store your first, middle and last name in three different variables and then print your full name using these variables\n",
        "\n",
        "first_name = \"SAM\"\n",
        "last_name =  \"ALEX\"\n",
        "middle_name = \"BOURNE\"\n",
        "print(first_name + last_name + middle_name)"
      ],
      "execution_count": 20,
      "outputs": [
        {
          "output_type": "error",
          "ename": "SyntaxError",
          "evalue": "ignored",
          "traceback": [
            "\u001b[0;36m  File \u001b[0;32m\"<ipython-input-20-77ccf235a20b>\"\u001b[0;36m, line \u001b[0;32m1\u001b[0m\n\u001b[0;31m    3. Store your first, middle and last name in three different variables and then print your full name using these variables\u001b[0m\n\u001b[0m           ^\u001b[0m\n\u001b[0;31mSyntaxError\u001b[0m\u001b[0;31m:\u001b[0m invalid syntax\n"
          ]
        }
      ]
    },
    {
      "cell_type": "code",
      "metadata": {
        "id": "pUK2TvuYL3wl"
      },
      "source": [
        "# Answer which of these are invalid variable names: \"_nation, 1record, record1, record_one, record-one, record^one, continue\"\n",
        "\n"
      ],
      "execution_count": 30,
      "outputs": []
    },
    {
      "cell_type": "code",
      "metadata": {
        "id": "tg0m1-NWH-vw"
      },
      "source": [
        "_nation = 1 \n"
      ],
      "execution_count": 23,
      "outputs": []
    },
    {
      "cell_type": "code",
      "metadata": {
        "colab": {
          "base_uri": "https://localhost:8080/",
          "height": 131
        },
        "id": "EREdhaUVLIAu",
        "outputId": "70d3b395-9082-4308-a33d-e42d2ad1be16"
      },
      "source": [
        "1record = 2\n"
      ],
      "execution_count": 24,
      "outputs": [
        {
          "output_type": "error",
          "ename": "SyntaxError",
          "evalue": "ignored",
          "traceback": [
            "\u001b[0;36m  File \u001b[0;32m\"<ipython-input-24-3147d17f65f2>\"\u001b[0;36m, line \u001b[0;32m1\u001b[0m\n\u001b[0;31m    1record = 2\u001b[0m\n\u001b[0m          ^\u001b[0m\n\u001b[0;31mSyntaxError\u001b[0m\u001b[0;31m:\u001b[0m invalid syntax\n"
          ]
        }
      ]
    },
    {
      "cell_type": "code",
      "metadata": {
        "id": "DQvfodRULjGN"
      },
      "source": [
        "record1 = 3\n"
      ],
      "execution_count": 25,
      "outputs": []
    },
    {
      "cell_type": "code",
      "metadata": {
        "id": "5wl0BvVmLk77"
      },
      "source": [
        "record_one = 4\n"
      ],
      "execution_count": 26,
      "outputs": []
    },
    {
      "cell_type": "code",
      "metadata": {
        "colab": {
          "base_uri": "https://localhost:8080/",
          "height": 131
        },
        "id": "l5UkFtvOLmla",
        "outputId": "0f981ac8-06fc-4a2c-83da-f92f23b534a9"
      },
      "source": [
        "record-one = 5\n"
      ],
      "execution_count": 27,
      "outputs": [
        {
          "output_type": "error",
          "ename": "SyntaxError",
          "evalue": "ignored",
          "traceback": [
            "\u001b[0;36m  File \u001b[0;32m\"<ipython-input-27-1fe35f5fb34d>\"\u001b[0;36m, line \u001b[0;32m1\u001b[0m\n\u001b[0;31m    record-one = 5\u001b[0m\n\u001b[0m                  ^\u001b[0m\n\u001b[0;31mSyntaxError\u001b[0m\u001b[0;31m:\u001b[0m can't assign to operator\n"
          ]
        }
      ]
    },
    {
      "cell_type": "code",
      "metadata": {
        "colab": {
          "base_uri": "https://localhost:8080/",
          "height": 131
        },
        "id": "Bj4xbjuELoTg",
        "outputId": "ecd9d1a3-b38e-4ed2-c1d6-8c0dc0779899"
      },
      "source": [
        "record^one = 6\n"
      ],
      "execution_count": 28,
      "outputs": [
        {
          "output_type": "error",
          "ename": "SyntaxError",
          "evalue": "ignored",
          "traceback": [
            "\u001b[0;36m  File \u001b[0;32m\"<ipython-input-28-797ebda12eaa>\"\u001b[0;36m, line \u001b[0;32m2\u001b[0m\n\u001b[0;31m    continue = 7\u001b[0m\n\u001b[0m             ^\u001b[0m\n\u001b[0;31mSyntaxError\u001b[0m\u001b[0;31m:\u001b[0m invalid syntax\n"
          ]
        }
      ]
    },
    {
      "cell_type": "code",
      "metadata": {
        "colab": {
          "base_uri": "https://localhost:8080/",
          "height": 131
        },
        "id": "Mq31vObRLqhj",
        "outputId": "e6cf1def-3982-44c4-f0d9-2a0abcd7c22e"
      },
      "source": [
        "continue = 7"
      ],
      "execution_count": 29,
      "outputs": [
        {
          "output_type": "error",
          "ename": "SyntaxError",
          "evalue": "ignored",
          "traceback": [
            "\u001b[0;36m  File \u001b[0;32m\"<ipython-input-29-48a3f10a5910>\"\u001b[0;36m, line \u001b[0;32m1\u001b[0m\n\u001b[0;31m    continue = 7\u001b[0m\n\u001b[0m             ^\u001b[0m\n\u001b[0;31mSyntaxError\u001b[0m\u001b[0;31m:\u001b[0m invalid syntax\n"
          ]
        }
      ]
    },
    {
      "cell_type": "code",
      "metadata": {
        "id": "Dg20C3noLsB_"
      },
      "source": [
        ""
      ],
      "execution_count": null,
      "outputs": []
    }
  ]
}