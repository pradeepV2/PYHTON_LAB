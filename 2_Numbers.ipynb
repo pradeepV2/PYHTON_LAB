{
  "nbformat": 4,
  "nbformat_minor": 0,
  "metadata": {
    "colab": {
      "name": "2. Numbers.ipynb",
      "provenance": []
    },
    "kernelspec": {
      "name": "python3",
      "display_name": "Python 3"
    },
    "language_info": {
      "name": "python"
    }
  },
  "cells": [
    {
      "cell_type": "code",
      "metadata": {
        "colab": {
          "base_uri": "https://localhost:8080/"
        },
        "id": "BLfNg6v8Oz-U",
        "outputId": "b035743a-cee1-4499-e82d-b8d3dd3e7b3a"
      },
      "source": [
        "# Exercise\n",
        "# 1. You have a football field that is 92 meter long and 48.8 meter wide. Find out total  area using python and print it\n",
        "\n",
        "#For a square or rectangular ground, you will first need to measure the length and then the width of the ground. Multiply the length and width.\n",
        "\n",
        "#Area = Length * Width\n",
        "\n",
        "Length = 92\n",
        "Breadth = 48.8\n",
        "Area = Length * Breadth\n",
        "Area"
      ],
      "execution_count": 8,
      "outputs": [
        {
          "output_type": "execute_result",
          "data": {
            "text/plain": [
              "4489.599999999999"
            ]
          },
          "metadata": {
            "tags": []
          },
          "execution_count": 8
        }
      ]
    },
    {
      "cell_type": "markdown",
      "metadata": {
        "id": "CGLfWSdgQMFc"
      },
      "source": [
        ""
      ]
    },
    {
      "cell_type": "code",
      "metadata": {
        "colab": {
          "base_uri": "https://localhost:8080/"
        },
        "id": "xXmgu0J8QU8u",
        "outputId": "e5d9440f-a9b3-4c15-89be-f39e57f14b57"
      },
      "source": [
        "# 2. You bought 9 packets of potato chips from a store. Each packet costs 1.49 dollar and you gave shopkeeper 20 dollar.\n",
        "#    Find out using python, how many dollars is the shopkeeper going to give you back?\n",
        "packets = 9\n",
        "cost_per_pack = 1.49\n",
        "Cash_paid = 20\n",
        "\n",
        "Total_cost = packets * cost_per_pack\n",
        "Total_cost\n",
        "\n",
        "Balance_amount = Cash_paid - Total_cost\n",
        "Balance_amount"
      ],
      "execution_count": 10,
      "outputs": [
        {
          "output_type": "execute_result",
          "data": {
            "text/plain": [
              "6.59"
            ]
          },
          "metadata": {
            "tags": []
          },
          "execution_count": 10
        }
      ]
    },
    {
      "cell_type": "code",
      "metadata": {
        "colab": {
          "base_uri": "https://localhost:8080/"
        },
        "id": "7Qni82zNQhE8",
        "outputId": "b925d26f-e0d8-4daa-8173-fa5538946efe"
      },
      "source": [
        "# 3. You want to replace tiles in your bathroom which is exactly square and 5.5 feet is its length. \n",
        "# If tiles cost 500 rs per square feet, how much will be the total cost to replace all tiles. Calculate and print the cost using python\n",
        "#    Hint: Use power operator (**) to find area of a square\n",
        "\n",
        "LENGTH_OF_SIDE = 5.5\n",
        "AREA_OF_SQUARE = LENGTH_OF_SIDE * LENGTH_OF_SIDE \n",
        "AREA_OF_SQUARE\n",
        "\n",
        "COST_PER_SQUARE_FEET = 500\n",
        "TOTAL_COST = AREA_OF_SQUARE * COST_PER_SQUARE_FEET\n",
        "TOTAL_COST\n",
        "\n",
        "\n"
      ],
      "execution_count": 13,
      "outputs": [
        {
          "output_type": "execute_result",
          "data": {
            "text/plain": [
              "15125.0"
            ]
          },
          "metadata": {
            "tags": []
          },
          "execution_count": 13
        }
      ]
    },
    {
      "cell_type": "code",
      "metadata": {
        "colab": {
          "base_uri": "https://localhost:8080/"
        },
        "id": "aH8FZPsMQs7P",
        "outputId": "08609666-95dc-4751-ad7c-ea4b5323cc3f"
      },
      "source": [
        "# 4. Print binary representation of number 17\n",
        "num=17\n",
        "print('Binary of number 17 is:', format(num,'b'))\n"
      ],
      "execution_count": 14,
      "outputs": [
        {
          "output_type": "stream",
          "text": [
            "Binary of number 17 is: 10001\n"
          ],
          "name": "stdout"
        }
      ]
    },
    {
      "cell_type": "code",
      "metadata": {
        "id": "iz5QrFFNUoqn"
      },
      "source": [
        ""
      ],
      "execution_count": null,
      "outputs": []
    }
  ]
}