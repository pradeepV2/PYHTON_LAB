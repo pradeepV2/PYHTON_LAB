{
  "nbformat": 4,
  "nbformat_minor": 0,
  "metadata": {
    "colab": {
      "name": "4. Lists.ipynb",
      "provenance": []
    },
    "kernelspec": {
      "name": "python3",
      "display_name": "Python 3"
    },
    "language_info": {
      "name": "python"
    }
  },
  "cells": [
    {
      "cell_type": "code",
      "metadata": {
        "id": "vQAU42x9t6fh"
      },
      "source": [
        "items = [\"saving\", \"credit\", \"current\" ]"
      ],
      "execution_count": 2,
      "outputs": []
    },
    {
      "cell_type": "code",
      "metadata": {
        "colab": {
          "base_uri": "https://localhost:8080/",
          "height": 35
        },
        "id": "XqG5AfadzRpt",
        "outputId": "0485fc4a-56d0-4c9b-fba8-4bcbd322fb9e"
      },
      "source": [
        "items[0]"
      ],
      "execution_count": 3,
      "outputs": [
        {
          "output_type": "execute_result",
          "data": {
            "application/vnd.google.colaboratory.intrinsic+json": {
              "type": "string"
            },
            "text/plain": [
              "'saving'"
            ]
          },
          "metadata": {
            "tags": []
          },
          "execution_count": 3
        }
      ]
    },
    {
      "cell_type": "code",
      "metadata": {
        "id": "tCghGxVPzfV3"
      },
      "source": [
        "items[1] = \"cheque\""
      ],
      "execution_count": 5,
      "outputs": []
    },
    {
      "cell_type": "code",
      "metadata": {
        "colab": {
          "base_uri": "https://localhost:8080/"
        },
        "id": "DNXE0VeGzlrw",
        "outputId": "2ee5d225-2b22-451f-f7a7-70bf9b52c6ba"
      },
      "source": [
        "items"
      ],
      "execution_count": 6,
      "outputs": [
        {
          "output_type": "execute_result",
          "data": {
            "text/plain": [
              "['saving', 'cheque', 'current']"
            ]
          },
          "metadata": {
            "tags": []
          },
          "execution_count": 6
        }
      ]
    },
    {
      "cell_type": "code",
      "metadata": {
        "id": "3_9i3M09zpju"
      },
      "source": [
        "items.append(\"credit cards\")"
      ],
      "execution_count": 7,
      "outputs": []
    },
    {
      "cell_type": "code",
      "metadata": {
        "colab": {
          "base_uri": "https://localhost:8080/"
        },
        "id": "QlwQfUnW0j8D",
        "outputId": "3af0b8c4-01e1-41c5-fe2a-a413dce2aa64"
      },
      "source": [
        "items"
      ],
      "execution_count": 8,
      "outputs": [
        {
          "output_type": "execute_result",
          "data": {
            "text/plain": [
              "['saving', 'cheque', 'current', 'credit cards']"
            ]
          },
          "metadata": {
            "tags": []
          },
          "execution_count": 8
        }
      ]
    },
    {
      "cell_type": "code",
      "metadata": {
        "colab": {
          "base_uri": "https://localhost:8080/"
        },
        "id": "qZq67_WM0lCA",
        "outputId": "a9bf6dd1-a651-4eda-bab6-2ec0e4768a95"
      },
      "source": [
        "items.insert(2, \"debit cards\")\n",
        "items"
      ],
      "execution_count": 10,
      "outputs": [
        {
          "output_type": "execute_result",
          "data": {
            "text/plain": [
              "['saving', 'cheque', 'debit cards', 'current', 'credit cards']"
            ]
          },
          "metadata": {
            "tags": []
          },
          "execution_count": 10
        }
      ]
    },
    {
      "cell_type": "code",
      "metadata": {
        "id": "fLIY-VdT0tu9"
      },
      "source": [
        "stress = [\"cibil\", \"score\", \"history\"]"
      ],
      "execution_count": 11,
      "outputs": []
    },
    {
      "cell_type": "code",
      "metadata": {
        "colab": {
          "base_uri": "https://localhost:8080/"
        },
        "id": "T7AsDxl_1cow",
        "outputId": "be788e64-9b16-4fa3-a808-8de328bb0532"
      },
      "source": [
        "report = items + stress\n",
        "report"
      ],
      "execution_count": 13,
      "outputs": [
        {
          "output_type": "execute_result",
          "data": {
            "text/plain": [
              "['saving',\n",
              " 'cheque',\n",
              " 'debit cards',\n",
              " 'current',\n",
              " 'credit cards',\n",
              " 'cibil',\n",
              " 'score',\n",
              " 'history']"
            ]
          },
          "metadata": {
            "tags": []
          },
          "execution_count": 13
        }
      ]
    },
    {
      "cell_type": "markdown",
      "metadata": {
        "id": "BKO-s7bt2AWn"
      },
      "source": [
        "You cannot add a string or a number to a list"
      ]
    },
    {
      "cell_type": "markdown",
      "metadata": {
        "id": "ng1Y99al10-y"
      },
      "source": [
        " You can add two lists"
      ]
    },
    {
      "cell_type": "code",
      "metadata": {
        "colab": {
          "base_uri": "https://localhost:8080/"
        },
        "id": "fyqcZqky1jc7",
        "outputId": "d01ee4ad-25a5-4ee6-d533-16b9e0cc0bb9"
      },
      "source": [
        "\"cheque\" in items"
      ],
      "execution_count": 15,
      "outputs": [
        {
          "output_type": "execute_result",
          "data": {
            "text/plain": [
              "True"
            ]
          },
          "metadata": {
            "tags": []
          },
          "execution_count": 15
        }
      ]
    },
    {
      "cell_type": "code",
      "metadata": {
        "colab": {
          "base_uri": "https://localhost:8080/"
        },
        "id": "TLB9giYm2Iqz",
        "outputId": "4702777e-148c-42e6-a216-dc603c551d69"
      },
      "source": [
        "\"cheque\" in stress"
      ],
      "execution_count": 16,
      "outputs": [
        {
          "output_type": "execute_result",
          "data": {
            "text/plain": [
              "False"
            ]
          },
          "metadata": {
            "tags": []
          },
          "execution_count": 16
        }
      ]
    },
    {
      "cell_type": "code",
      "metadata": {
        "id": "c8z-hfgp2OwQ",
        "outputId": "eebf143f-02fb-4ddd-c1f7-0e5000aee17b",
        "colab": {
          "base_uri": "https://localhost:8080/"
        }
      },
      "source": [
        "\"cheque\" in report"
      ],
      "execution_count": 17,
      "outputs": [
        {
          "output_type": "execute_result",
          "data": {
            "text/plain": [
              "True"
            ]
          },
          "metadata": {
            "tags": []
          },
          "execution_count": 17
        }
      ]
    },
    {
      "cell_type": "code",
      "metadata": {
        "id": "xAAFRVhg2Qoq"
      },
      "source": [
        ""
      ],
      "execution_count": null,
      "outputs": []
    }
  ]
}