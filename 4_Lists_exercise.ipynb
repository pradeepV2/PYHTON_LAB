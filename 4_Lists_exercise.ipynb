{
  "nbformat": 4,
  "nbformat_minor": 0,
  "metadata": {
    "colab": {
      "name": "4. Lists exercise.ipynb",
      "provenance": []
    },
    "kernelspec": {
      "name": "python3",
      "display_name": "Python 3"
    },
    "language_info": {
      "name": "python"
    }
  },
  "cells": [
    {
      "cell_type": "markdown",
      "metadata": {
        "id": "ylXu1vba3Y-s"
      },
      "source": [
        "Let us say your expense for every month are listed below,\n",
        "January - 2200\n",
        "February - 2350\n",
        "March - 2600\n",
        "April - 2130\n",
        "May - 2190\n",
        "Create a list to store these monthly expenses and using that find out,\n",
        "\n",
        "1. In Feb, how many dollars you spent extra compare to January?\n",
        "2. Find out your total expense in first quarter (first three months) of the year.\n",
        "3. Find out if you spent exactly 2000 dollars in any month\n",
        "4. June month just finished and your expense is 1980 dollar. Add this item to our monthly expense list\n",
        "5. You returned an item that you bought in a month of April and\n",
        "got a refund of 200$. Make a correction to your monthly expense list\n",
        "based on this"
      ]
    },
    {
      "cell_type": "code",
      "metadata": {
        "colab": {
          "base_uri": "https://localhost:8080/"
        },
        "id": "0RjAUISo3cvT",
        "outputId": "effb6887-8e47-4b75-fdcf-08f136cd8604"
      },
      "source": [
        "expenses =[2200, 2350, 2600, 2130,2190]\n",
        "expenses\n",
        "\n",
        "Month =[\"January\", \"February\", \"March\", \"April\", \"May\"]\n",
        "Month\n",
        "\n"
      ],
      "execution_count": 3,
      "outputs": [
        {
          "output_type": "execute_result",
          "data": {
            "text/plain": [
              "['January', 'February', 'March', 'April', 'May']"
            ]
          },
          "metadata": {
            "tags": []
          },
          "execution_count": 3
        }
      ]
    },
    {
      "cell_type": "code",
      "metadata": {
        "colab": {
          "base_uri": "https://localhost:8080/"
        },
        "id": "htgifSN54KLl",
        "outputId": "28c1d67a-2e12-416b-d42a-e0774b83b05d"
      },
      "source": [
        "1. In Feb, how many dollars you spent extra compare to January?\n",
        "\n",
        "Jan_exp = 2200\n",
        "Feb_exp = 2350\n",
        "Mar_exp = 2600\n",
        "Apr_exp = 2130\n",
        "May_exp = 2190\n",
        "\n",
        "Extra_spent_in_feb = Jan_exp - Feb_exp\n",
        "Extra_spent_in_feb\n",
        "\n"
      ],
      "execution_count": 4,
      "outputs": [
        {
          "output_type": "stream",
          "text": [
            "Object `January` not found.\n"
          ],
          "name": "stdout"
        },
        {
          "output_type": "execute_result",
          "data": {
            "text/plain": [
              "-150"
            ]
          },
          "metadata": {
            "tags": []
          },
          "execution_count": 4
        }
      ]
    },
    {
      "cell_type": "code",
      "metadata": {
        "colab": {
          "base_uri": "https://localhost:8080/"
        },
        "id": "aKKXCdR243WX",
        "outputId": "72f6e930-932a-4157-c126-4501b50ccf40"
      },
      "source": [
        "expenses =[2200, 2350, 2600, 2130,2190]\n",
        "expenses"
      ],
      "execution_count": 5,
      "outputs": [
        {
          "output_type": "execute_result",
          "data": {
            "text/plain": [
              "[2200, 2350, 2600, 2130, 2190]"
            ]
          },
          "metadata": {
            "tags": []
          },
          "execution_count": 5
        }
      ]
    },
    {
      "cell_type": "code",
      "metadata": {
        "colab": {
          "base_uri": "https://localhost:8080/"
        },
        "id": "uzeWhU4i5V-U",
        "outputId": "b9f81da5-45c9-4d7b-e083-adfdc274c6fe"
      },
      "source": [
        "feb_extra_exp = expenses[1] - expenses[0]\n",
        "feb_extra_exp"
      ],
      "execution_count": 6,
      "outputs": [
        {
          "output_type": "execute_result",
          "data": {
            "text/plain": [
              "150"
            ]
          },
          "metadata": {
            "tags": []
          },
          "execution_count": 6
        }
      ]
    },
    {
      "cell_type": "code",
      "metadata": {
        "colab": {
          "base_uri": "https://localhost:8080/"
        },
        "id": "jLMhaE8B5fXu",
        "outputId": "f4246993-bbaf-4fbc-80e5-9a4600a214e5"
      },
      "source": [
        "# 2. Find out your total expense in first quarter (first three months) of the year.\n",
        "first_quart = expenses[0] + expenses[1] + expenses[2]\n",
        "first_quart "
      ],
      "execution_count": 8,
      "outputs": [
        {
          "output_type": "execute_result",
          "data": {
            "text/plain": [
              "7150"
            ]
          },
          "metadata": {
            "tags": []
          },
          "execution_count": 8
        }
      ]
    },
    {
      "cell_type": "code",
      "metadata": {
        "colab": {
          "base_uri": "https://localhost:8080/"
        },
        "id": "r6yP9Yqo5nB8",
        "outputId": "a9c5b447-fa23-4ab4-ad19-dc4301704fe9"
      },
      "source": [
        "#3. Find out if you spent exactly 2000 dollars in any month\n",
        "expenses\n",
        "\n",
        "2000 in expenses "
      ],
      "execution_count": 14,
      "outputs": [
        {
          "output_type": "execute_result",
          "data": {
            "text/plain": [
              "False"
            ]
          },
          "metadata": {
            "tags": []
          },
          "execution_count": 14
        }
      ]
    },
    {
      "cell_type": "code",
      "metadata": {
        "colab": {
          "base_uri": "https://localhost:8080/"
        },
        "id": "DHLFGuh655sU",
        "outputId": "a57e3aa2-03ef-4cc4-9807-6f1ede64afd6"
      },
      "source": [
        "#4. June month just finished and your expense is 1980 dollar. Add this item to our monthly expense list\n",
        "expenses\n",
        "expenses.append(2000)\n",
        "expenses"
      ],
      "execution_count": 17,
      "outputs": [
        {
          "output_type": "execute_result",
          "data": {
            "text/plain": [
              "[2200, 2350, 2600, 2130, 2190, 2000, 2000]"
            ]
          },
          "metadata": {
            "tags": []
          },
          "execution_count": 17
        }
      ]
    },
    {
      "cell_type": "code",
      "metadata": {
        "colab": {
          "base_uri": "https://localhost:8080/"
        },
        "id": "DpY6vEuz680D",
        "outputId": "e7ed9302-4dcf-4a81-91a3-63ab0131e9f4"
      },
      "source": [
        "# 5. You returned an item that you bought in a month of April and got a refund of 200$.\n",
        "# Make a correction to your monthly expense list based on this\n",
        "expenses[3]\n"
      ],
      "execution_count": 19,
      "outputs": [
        {
          "output_type": "execute_result",
          "data": {
            "text/plain": [
              "2130"
            ]
          },
          "metadata": {
            "tags": []
          },
          "execution_count": 19
        }
      ]
    },
    {
      "cell_type": "code",
      "metadata": {
        "colab": {
          "base_uri": "https://localhost:8080/"
        },
        "id": "n5xmJQdY7gGH",
        "outputId": "35df4767-2bac-4af3-9435-9da7546acb5e"
      },
      "source": [
        "expenses[3] - 200"
      ],
      "execution_count": 20,
      "outputs": [
        {
          "output_type": "execute_result",
          "data": {
            "text/plain": [
              "1930"
            ]
          },
          "metadata": {
            "tags": []
          },
          "execution_count": 20
        }
      ]
    },
    {
      "cell_type": "code",
      "metadata": {
        "id": "cwhdX_da7pLD"
      },
      "source": [
        "exp_3 = expenses[3] - 200"
      ],
      "execution_count": 21,
      "outputs": []
    },
    {
      "cell_type": "code",
      "metadata": {
        "colab": {
          "base_uri": "https://localhost:8080/"
        },
        "id": "ObyjRYHo7tz9",
        "outputId": "f484150d-4651-4d48-f19a-4699742df7f8"
      },
      "source": [
        "expenses"
      ],
      "execution_count": 22,
      "outputs": [
        {
          "output_type": "execute_result",
          "data": {
            "text/plain": [
              "[2200, 2350, 2600, 2130, 2190, 2000, 2000]"
            ]
          },
          "metadata": {
            "tags": []
          },
          "execution_count": 22
        }
      ]
    },
    {
      "cell_type": "code",
      "metadata": {
        "colab": {
          "base_uri": "https://localhost:8080/"
        },
        "id": "tUyGYoRH7xbH",
        "outputId": "ce1c135b-e557-486a-d7a9-0a93714b2ad3"
      },
      "source": [
        "expenses.insert(3,exp_3)\n",
        "expenses"
      ],
      "execution_count": 23,
      "outputs": [
        {
          "output_type": "execute_result",
          "data": {
            "text/plain": [
              "[2200, 2350, 2600, 1930, 2130, 2190, 2000, 2000]"
            ]
          },
          "metadata": {
            "tags": []
          },
          "execution_count": 23
        }
      ]
    },
    {
      "cell_type": "code",
      "metadata": {
        "id": "TLEdh55L7-ia"
      },
      "source": [
        ""
      ],
      "execution_count": null,
      "outputs": []
    }
  ]
}