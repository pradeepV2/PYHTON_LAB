{
  "nbformat": 4,
  "nbformat_minor": 0,
  "metadata": {
    "colab": {
      "name": "5. If Statement Exercise.ipynb",
      "provenance": [],
      "collapsed_sections": []
    },
    "kernelspec": {
      "name": "python3",
      "display_name": "Python 3"
    },
    "language_info": {
      "name": "python"
    }
  },
  "cells": [
    {
      "cell_type": "code",
      "metadata": {
        "id": "aRPxg5v8j11v"
      },
      "source": [
        ""
      ],
      "execution_count": null,
      "outputs": []
    },
    {
      "cell_type": "markdown",
      "metadata": {
        "id": "rwtdMN0aj9qd"
      },
      "source": [
        "Using following list of cities per country,\n",
        "india = [\"mumbai\", \"banglore\", \"chennai\", \"delhi\"]\n",
        "pakistan = [\"lahore\",\"karachi\",\"islamabad\"]\n",
        "bangladesh = [\"dhaka\", \"khulna\", \"rangpur\"]\n",
        "\n",
        "\n",
        "Write a program that asks user to enter a city name and it should tell which country the city belongs to\n",
        "\n",
        "Write a program that asks user to enter two cities and it tells you if they both are in same country or not. \n",
        "\n",
        "For example if I enter mumbai and chennai, it will print \"Both cities are in India\" but if I enter mumbai and dhaka it should print \"They don't belong to same country\""
      ]
    },
    {
      "cell_type": "code",
      "metadata": {
        "colab": {
          "base_uri": "https://localhost:8080/"
        },
        "id": "sqwJdR64j_HM",
        "outputId": "fbe62b6b-ca28-40f3-a3e2-5e35f87faf25"
      },
      "source": [
        "india = [\"mumbai\", \"banglore\", \"chennai\", \"delhi\"] \n",
        "pakistan = [\"lahore\",\"karachi\",\"islamabad\"] \n",
        "bangladesh = [\"dhaka\", \"khulna\", \"rangpur\"]\n",
        "\n",
        "city = input(\"Enter the name of the city :\")\n",
        "\n",
        "if city in india :\n",
        "  print(\"This is in INDIA\")\n",
        "elif city in pakistan :\n",
        "  print(\"This is in PAK\")\n",
        "elif city in bangladesh :\n",
        "  print(\"This is in BANGS\")\n",
        "else :\n",
        "  print (\"I have not visited this place\")"
      ],
      "execution_count": 3,
      "outputs": [
        {
          "output_type": "stream",
          "text": [
            "Enter the name of the city :dhaka\n",
            "This is in BANGS\n"
          ],
          "name": "stdout"
        }
      ]
    },
    {
      "cell_type": "code",
      "metadata": {
        "colab": {
          "base_uri": "https://localhost:8080/"
        },
        "id": "EOEuBbLgk60j",
        "outputId": "d59194a6-8dbe-4d77-a1f5-d8b69b5fb11f"
      },
      "source": [
        "india = [\"mumbai\", \"banglore\", \"chennai\", \"delhi\"] \n",
        "pakistan = [\"lahore\",\"karachi\",\"islamabad\"] \n",
        "bangladesh = [\"dhaka\", \"khulna\", \"rangpur\"]\n",
        "\n",
        "city1 = input(\"Enter the name of the first city :\")\n",
        "city2 = input(\"Enter the name of the second city :\")\n",
        "\n",
        "if city1 in india and city2 in india :\n",
        "  print(\"These cities are in INDIA\")\n",
        "elif city1 in pakistan and city2 in pakistan :\n",
        "  print(\"These cities are in PAK\")\n",
        "elif city1 in bangladesh and city2 in bangladesh :\n",
        "  print(\"These cities are in BANGS\")\n",
        "else :\n",
        "  print (\"They both dont belong to same country\")  "
      ],
      "execution_count": 9,
      "outputs": [
        {
          "output_type": "stream",
          "text": [
            "Enter the name of the first city :bajaj\n",
            "Enter the name of the second city :delhi\n",
            "They both dont belong to same country\n"
          ],
          "name": "stdout"
        }
      ]
    },
    {
      "cell_type": "markdown",
      "metadata": {
        "id": "RY8y87BFoh_Z"
      },
      "source": [
        "2. Write a python program that can tell you if your sugar is normal or not. Normal fasting level sugar range is 80 to 100.\n",
        "\n",
        "\n",
        "Ask user to enter his fasting sugar level\n",
        "If it is below 80 to 100 range then print that sugar is low\n",
        "If it is above 100 then print that it is high otherwise print that it is normal"
      ]
    },
    {
      "cell_type": "code",
      "metadata": {
        "colab": {
          "base_uri": "https://localhost:8080/"
        },
        "id": "p0czBFR7oqyy",
        "outputId": "4894aae7-60db-4ba6-b9c2-5a3a0bb54ee5"
      },
      "source": [
        "Sugar_level = input(\"Enter the sugar level :\")\n",
        "Sugar_level = int(Sugar_level)\n",
        "\n",
        "if Sugar_level < 80 :\n",
        "  print(\"Low sugar level \") \n",
        "\n",
        "elif Sugar_level > 100 :\n",
        "  \n",
        "  print(\"High sugar level \")\n",
        "else :\n",
        "  print(\"It is normal dude\")\n"
      ],
      "execution_count": 18,
      "outputs": [
        {
          "output_type": "stream",
          "text": [
            "Enter the sugar level :99\n",
            "It is normal dude\n"
          ],
          "name": "stdout"
        }
      ]
    },
    {
      "cell_type": "code",
      "metadata": {
        "id": "KqBq0AI9qQmY"
      },
      "source": [
        ""
      ],
      "execution_count": null,
      "outputs": []
    },
    {
      "cell_type": "code",
      "metadata": {
        "id": "-XsjVCRWqlFz"
      },
      "source": [
        ""
      ],
      "execution_count": null,
      "outputs": []
    }
  ]
}