{
  "nbformat": 4,
  "nbformat_minor": 0,
  "metadata": {
    "colab": {
      "name": "5. If statement.ipynb",
      "provenance": [],
      "collapsed_sections": []
    },
    "kernelspec": {
      "name": "python3",
      "display_name": "Python 3"
    },
    "language_info": {
      "name": "python"
    }
  },
  "cells": [
    {
      "cell_type": "code",
      "metadata": {
        "colab": {
          "base_uri": "https://localhost:8080/"
        },
        "id": "Bm9JnerLdLO7",
        "outputId": "608c0112-d02f-4e47-988e-cc8aca955e3c"
      },
      "source": [
        "num = input (\"Enter a number : \")\n",
        "num = int(num)\n",
        "\n",
        "if num %2==0:\n",
        "  print(\"This an even number\")\n",
        "else:\n",
        "  print(\"This is an odd number\")"
      ],
      "execution_count": 2,
      "outputs": [
        {
          "output_type": "stream",
          "text": [
            "Enter a number : 111\n",
            "This is an odd number\n"
          ],
          "name": "stdout"
        }
      ]
    },
    {
      "cell_type": "code",
      "metadata": {
        "colab": {
          "base_uri": "https://localhost:8080/"
        },
        "id": "aK_YhKwIeC3M",
        "outputId": "6861f4d3-fd06-4448-870d-d9c6af1029b7"
      },
      "source": [
        "CAR = [\"FERRARI\", \"LAMBORGHINI\", \"ROLLS-ROYCE\", \"AUDI\", \"BMW\", \"MUSTANG\"]\n",
        "BIKE = [\"ENFIELD\", \"HARLEY\", \"DUCATI\", \"NINJA\", \"HONDA\", \"BAJAJ\"]\n",
        "PLANE = [\"AIRBUS\", \"BOEING\", \"ROLLS-ROYCE\", \"GE\"]\n",
        "\n",
        "VEHICLE = input (\"ENTER THE BRAND NAME :\")\n",
        "\n",
        "if VEHICLE in CAR :\n",
        "  print(\"THIS IS A CAR\")\n",
        "\n",
        "elif VEHICLE in BIKE :\n",
        "  print(\"THIS IS A BIKE\")\n",
        "\n",
        "elif VEHICLE in PLANE :\n",
        "  print(\"THIS IS A PLANE\")\n",
        "else :\n",
        "  print(\"NO IDEA BOSS !\")\n",
        "  "
      ],
      "execution_count": 7,
      "outputs": [
        {
          "output_type": "stream",
          "text": [
            "ENTER THE BRAND NAME :HARLEY\n",
            "THIS IS A BIKE\n"
          ],
          "name": "stdout"
        }
      ]
    },
    {
      "cell_type": "code",
      "metadata": {
        "id": "bpcnU1Jyh8BU"
      },
      "source": [
        ""
      ],
      "execution_count": 7,
      "outputs": []
    }
  ]
}