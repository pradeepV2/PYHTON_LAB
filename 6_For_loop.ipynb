{
  "nbformat": 4,
  "nbformat_minor": 0,
  "metadata": {
    "colab": {
      "name": "6. For loop.ipynb",
      "provenance": []
    },
    "kernelspec": {
      "name": "python3",
      "display_name": "Python 3"
    },
    "language_info": {
      "name": "python"
    }
  },
  "cells": [
    {
      "cell_type": "code",
      "metadata": {
        "colab": {
          "base_uri": "https://localhost:8080/"
        },
        "id": "qCZkagXtsqyW",
        "outputId": "f3969b0f-07ad-4871-8487-3b5d0a7fcb01"
      },
      "source": [
        "expenses = [2100, 2300, 2345, 2948, 2384]\n",
        "\n",
        "total = 0\n",
        "for xyz in expenses:\n",
        "  total = total + xyz\n",
        "  print(total)"
      ],
      "execution_count": 1,
      "outputs": [
        {
          "output_type": "stream",
          "text": [
            "2100\n",
            "4400\n",
            "6745\n",
            "9693\n",
            "12077\n"
          ],
          "name": "stdout"
        }
      ]
    },
    {
      "cell_type": "code",
      "metadata": {
        "colab": {
          "base_uri": "https://localhost:8080/"
        },
        "id": "fecvR56H3LDu",
        "outputId": "d595c000-509e-44fb-d42a-1377641b8411"
      },
      "source": [
        "for i in range(1,11):\n",
        "  print(i)"
      ],
      "execution_count": 3,
      "outputs": [
        {
          "output_type": "stream",
          "text": [
            "1\n",
            "2\n",
            "3\n",
            "4\n",
            "5\n",
            "6\n",
            "7\n",
            "8\n",
            "9\n",
            "10\n"
          ],
          "name": "stdout"
        }
      ]
    },
    {
      "cell_type": "code",
      "metadata": {
        "colab": {
          "base_uri": "https://localhost:8080/"
        },
        "id": "uhDHvZSb3jxe",
        "outputId": "c0916f32-7cac-4f95-f425-3ecf73791c90"
      },
      "source": [
        "for i in range(1,11):\n",
        "  print(i**2)"
      ],
      "execution_count": 4,
      "outputs": [
        {
          "output_type": "stream",
          "text": [
            "1\n",
            "4\n",
            "9\n",
            "16\n",
            "25\n",
            "36\n",
            "49\n",
            "64\n",
            "81\n",
            "100\n"
          ],
          "name": "stdout"
        }
      ]
    },
    {
      "cell_type": "code",
      "metadata": {
        "colab": {
          "base_uri": "https://localhost:8080/"
        },
        "id": "T0tKuGxf-3E5",
        "outputId": "0002b3ee-1391-4ba6-d91d-827a859ea604"
      },
      "source": [
        "expenses = [2100, 2300, 2345, 2948, 2384]\n",
        "range(len(expenses))"
      ],
      "execution_count": 31,
      "outputs": [
        {
          "output_type": "execute_result",
          "data": {
            "text/plain": [
              "range(0, 5)"
            ]
          },
          "metadata": {
            "tags": []
          },
          "execution_count": 31
        }
      ]
    },
    {
      "cell_type": "code",
      "metadata": {
        "colab": {
          "base_uri": "https://localhost:8080/"
        },
        "id": "cfkKAvM-3YFp",
        "outputId": "8c5d16a4-2526-4c18-c9ff-6e54682bd722"
      },
      "source": [
        "expenses = [2100, 2300, 2345, 2948, 2384]\n",
        "\n",
        "total = 0\n",
        "for i in range(len(expenses)):\n",
        "  print(\"MONTH :\", (i+1), expenses[i])\n",
        "  total = total + expenses[i]\n",
        "\n",
        "print(total)"
      ],
      "execution_count": 33,
      "outputs": [
        {
          "output_type": "stream",
          "text": [
            "MONTH : 1 2100\n",
            "MONTH : 2 2300\n",
            "MONTH : 3 2345\n",
            "MONTH : 4 2948\n",
            "MONTH : 5 2384\n",
            "12077\n"
          ],
          "name": "stdout"
        }
      ]
    },
    {
      "cell_type": "markdown",
      "metadata": {
        "id": "mjaJ357RF1M8"
      },
      "source": [
        "#RANGE FUNCTIONS"
      ]
    },
    {
      "cell_type": "code",
      "metadata": {
        "colab": {
          "base_uri": "https://localhost:8080/"
        },
        "id": "Fjmo0IsD4Q3O",
        "outputId": "11feb414-9902-485c-8729-17493c32d15a"
      },
      "source": [
        "range(5)"
      ],
      "execution_count": 22,
      "outputs": [
        {
          "output_type": "execute_result",
          "data": {
            "text/plain": [
              "range(0, 5)"
            ]
          },
          "metadata": {
            "tags": []
          },
          "execution_count": 22
        }
      ]
    },
    {
      "cell_type": "code",
      "metadata": {
        "colab": {
          "base_uri": "https://localhost:8080/"
        },
        "id": "S19ThBc_921p",
        "outputId": "a4baf21f-3c62-4eda-e65c-a3401ba8a56a"
      },
      "source": [
        "a = range(5)\n",
        "print(a)"
      ],
      "execution_count": 25,
      "outputs": [
        {
          "output_type": "stream",
          "text": [
            "range(0, 5)\n"
          ],
          "name": "stdout"
        }
      ]
    },
    {
      "cell_type": "code",
      "metadata": {
        "colab": {
          "base_uri": "https://localhost:8080/"
        },
        "id": "LdOjlub596Zc",
        "outputId": "2f47932d-a183-4f79-da10-752bb023aef8"
      },
      "source": [
        "print(\"JESUS LOVES YOU SO MUCH\")\n"
      ],
      "execution_count": 27,
      "outputs": [
        {
          "output_type": "stream",
          "text": [
            "JESUS LOVES YOU SO MUCH\n"
          ],
          "name": "stdout"
        }
      ]
    },
    {
      "cell_type": "markdown",
      "metadata": {
        "id": "glxMfzK6F5ww"
      },
      "source": [
        "# FOR LOOP & IF CONDITION"
      ]
    },
    {
      "cell_type": "code",
      "metadata": {
        "colab": {
          "base_uri": "https://localhost:8080/"
        },
        "id": "1rNkYIIe-gis",
        "outputId": "f3f4ab3b-8f2d-46bc-b099-53aa4c1f7fc2"
      },
      "source": [
        "job_loc = \"New Jersey\"\n",
        "location = [\"New York\", \"New Jersey\", \"Toronto\", \"Ottawa\"]\n",
        "\n",
        "for i in location:\n",
        "  if i == job_loc:\n",
        "    print(\"Location is in: \", i)\n",
        "    break\n",
        "  else :\n",
        "    print(\"No idea \")"
      ],
      "execution_count": 37,
      "outputs": [
        {
          "output_type": "stream",
          "text": [
            "No idea \n",
            "Location is in:  New Jersey\n"
          ],
          "name": "stdout"
        }
      ]
    },
    {
      "cell_type": "code",
      "metadata": {
        "colab": {
          "base_uri": "https://localhost:8080/"
        },
        "id": "SYX9Ks5a-nfz",
        "outputId": "b7abbf90-066d-4831-d962-b1755da19666"
      },
      "source": [
        "for i in range(1,11):\n",
        "  if i%2==0:\n",
        "    print(i**2)"
      ],
      "execution_count": 38,
      "outputs": [
        {
          "output_type": "stream",
          "text": [
            "4\n",
            "16\n",
            "36\n",
            "64\n",
            "100\n"
          ],
          "name": "stdout"
        }
      ]
    },
    {
      "cell_type": "markdown",
      "metadata": {
        "id": "HHdydq4AGBdz"
      },
      "source": [
        "# WHILE LOOP"
      ]
    },
    {
      "cell_type": "code",
      "metadata": {
        "colab": {
          "base_uri": "https://localhost:8080/"
        },
        "id": "X2TFkJkkEqQs",
        "outputId": "e93c0660-f68a-4839-895d-7541a2fed92c"
      },
      "source": [
        "i = 1\n",
        "while i<=5:\n",
        "  print(i)\n",
        "  i = i+1\n"
      ],
      "execution_count": 40,
      "outputs": [
        {
          "output_type": "stream",
          "text": [
            "1\n",
            "2\n",
            "3\n",
            "4\n",
            "5\n"
          ],
          "name": "stdout"
        }
      ]
    },
    {
      "cell_type": "code",
      "metadata": {
        "id": "0tuvbYeOFDBV"
      },
      "source": [
        ""
      ],
      "execution_count": null,
      "outputs": []
    }
  ]
}