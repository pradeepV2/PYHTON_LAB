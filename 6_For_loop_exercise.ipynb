{
  "nbformat": 4,
  "nbformat_minor": 0,
  "metadata": {
    "colab": {
      "name": "6. For loop exercise.ipynb",
      "provenance": []
    },
    "kernelspec": {
      "name": "python3",
      "display_name": "Python 3"
    },
    "language_info": {
      "name": "python"
    }
  },
  "cells": [
    {
      "cell_type": "markdown",
      "metadata": {
        "id": "qTLeMsjYtYGG"
      },
      "source": [
        "After flipping a coin 10 times you got this result\n",
        "\n",
        "result = [\"heads\",\"tails\",\"tails\",\"heads\",\"tails\",\"heads\",\"heads\",\"tails\",\"tails\",\"tails\"]\n",
        "\n",
        "Using for loop figure out how many times you got heads"
      ]
    },
    {
      "cell_type": "code",
      "metadata": {
        "id": "yu-7g794taQH"
      },
      "source": [
        "result = [\"heads\",\"tails\",\"tails\",\"heads\",\"tails\",\"heads\",\"heads\",\"tails\",\"tails\",\"tails\"]\n"
      ],
      "execution_count": 1,
      "outputs": []
    },
    {
      "cell_type": "code",
      "metadata": {
        "colab": {
          "base_uri": "https://localhost:8080/"
        },
        "id": "yZ2OAXzlte36",
        "outputId": "817abe07-715f-4928-e095-67a24c8d9887"
      },
      "source": [
        "j=0\n",
        "k=0\n",
        "for i in result:\n",
        "  if i == \"heads\" :\n",
        "    j= j+1\n",
        "    print(\"HEADS :\", j)\n",
        "  else :\n",
        "    k=k+1\n",
        "    print(\"TAILS :\", k)"
      ],
      "execution_count": 8,
      "outputs": [
        {
          "output_type": "stream",
          "text": [
            "HEADS : 1\n",
            "TAILS : 1\n",
            "TAILS : 2\n",
            "HEADS : 2\n",
            "TAILS : 3\n",
            "HEADS : 3\n",
            "HEADS : 4\n",
            "TAILS : 4\n",
            "TAILS : 5\n",
            "TAILS : 6\n"
          ],
          "name": "stdout"
        }
      ]
    },
    {
      "cell_type": "code",
      "metadata": {
        "colab": {
          "base_uri": "https://localhost:8080/"
        },
        "id": "ay8OScZQtl5Y",
        "outputId": "a71559d2-643e-47e8-9cbe-a329195bf360"
      },
      "source": [
        "#Print square of all numbers between 1 to 10 except even numbers\n",
        "\n",
        "for i in range(1,11):\n",
        "   print(\"print :\", i)\n",
        "   print(\"i square :\" , i*i)\n",
        " "
      ],
      "execution_count": 20,
      "outputs": [
        {
          "output_type": "stream",
          "text": [
            "print : 1\n",
            "i square : 1\n",
            "print : 2\n",
            "i square : 4\n",
            "print : 3\n",
            "i square : 9\n",
            "print : 4\n",
            "i square : 16\n",
            "print : 5\n",
            "i square : 25\n",
            "print : 6\n",
            "i square : 36\n",
            "print : 7\n",
            "i square : 49\n",
            "print : 8\n",
            "i square : 64\n",
            "print : 9\n",
            "i square : 81\n",
            "print : 10\n",
            "i square : 100\n"
          ],
          "name": "stdout"
        }
      ]
    },
    {
      "cell_type": "code",
      "metadata": {
        "id": "LnD8lFLZvj0u"
      },
      "source": [
        ""
      ],
      "execution_count": null,
      "outputs": []
    }
  ]
}