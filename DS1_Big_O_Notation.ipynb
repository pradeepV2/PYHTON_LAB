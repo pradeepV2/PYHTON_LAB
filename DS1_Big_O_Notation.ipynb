{
  "nbformat": 4,
  "nbformat_minor": 0,
  "metadata": {
    "colab": {
      "name": "DS1. Big O Notation.ipynb",
      "provenance": [],
      "collapsed_sections": [],
      "authorship_tag": "ABX9TyOypoxzAJscJUbQ1+hQKQ0d",
      "include_colab_link": true
    },
    "kernelspec": {
      "name": "python3",
      "display_name": "Python 3"
    },
    "language_info": {
      "name": "python"
    }
  },
  "cells": [
    {
      "cell_type": "markdown",
      "metadata": {
        "id": "view-in-github",
        "colab_type": "text"
      },
      "source": [
        "<a href=\"https://colab.research.google.com/github/pradeepV2/PYHTON_LAB/blob/master/DS1_Big_O_Notation.ipynb\" target=\"_parent\"><img src=\"https://colab.research.google.com/assets/colab-badge.svg\" alt=\"Open In Colab\"/></a>"
      ]
    },
    {
      "cell_type": "markdown",
      "metadata": {
        "id": "AkE3vGnvlSfz"
      },
      "source": [
        "# Program to find duplicates from the list\n",
        "\n",
        "\n"
      ]
    },
    {
      "cell_type": "code",
      "metadata": {
        "colab": {
          "base_uri": "https://localhost:8080/"
        },
        "id": "5FLSXfW1lahY",
        "outputId": "24d52968-689c-4a10-ef0e-4b4b5e790e54"
      },
      "source": [
        "numbers =[3,2,5,7,4,7,9,5,6,8,4,7,9]\n",
        "\n",
        "duplicate = None\n",
        "\n",
        "for i in range(len(numbers)):\n",
        "  for j in range(i+1, len(numbers)):\n",
        "    if numbers[i] == numbers[j]:\n",
        "      duplicate = numbers[i]\n",
        "      break\n",
        "\n",
        "for i in range(len(numbers)):\n",
        "    if numbers[i] == duplicate :\n",
        "      print(i)\n",
        "      "
      ],
      "execution_count": 5,
      "outputs": [
        {
          "output_type": "stream",
          "text": [
            "6\n",
            "12\n"
          ],
          "name": "stdout"
        }
      ]
    },
    {
      "cell_type": "markdown",
      "metadata": {
        "id": "Ls1MxLDpoILQ"
      },
      "source": [
        "Time = An2 + Bn + c        --> Order of n2\n",
        "\n"
      ]
    },
    {
      "cell_type": "markdown",
      "metadata": {
        "id": "Ff0DRGfhokuR"
      },
      "source": [
        "1. Keep the fastest growing term\n",
        "2. Drop Constants\n"
      ]
    },
    {
      "cell_type": "markdown",
      "metadata": {
        "id": "6mhYfXsuo2Tc"
      },
      "source": [
        "Big O Notation is a very rough estimate"
      ]
    },
    {
      "cell_type": "markdown",
      "metadata": {
        "id": "BYD6HxIBoysK"
      },
      "source": [
        "Time = 5n2 + 3n + 20\n",
        "\n",
        "n = 1000\n",
        "\n",
        "Time = 5 * (1000)2 + 3* 1000 + 20\n",
        "Time = 5000000 + 3020\n",
        "\n",
        "5,000,000 is large compared to 3020\n",
        "\n",
        "Hence Order of n2 is relevant\n"
      ]
    },
    {
      "cell_type": "code",
      "metadata": {
        "id": "hN_2yqeGqbWz"
      },
      "source": [
        ""
      ],
      "execution_count": null,
      "outputs": []
    },
    {
      "cell_type": "markdown",
      "metadata": {
        "id": "rM4hscoCqb9C"
      },
      "source": [
        "#PROGRAM TO FIND THE INDEX OF A PARTICULAR NUMBER FROM THE LIST"
      ]
    },
    {
      "cell_type": "code",
      "metadata": {
        "colab": {
          "base_uri": "https://localhost:8080/"
        },
        "id": "QhvPLR6jqjAb",
        "outputId": "cf850d1d-fbaf-48ff-cd31-7d99d9ca0601"
      },
      "source": [
        "numbers = [33,44,34,67,68,89,86,65,36]\n",
        "\n",
        "for i in range(len(numbers)):\n",
        "  if numbers[i] == 68 :\n",
        "    print(i)"
      ],
      "execution_count": 8,
      "outputs": [
        {
          "output_type": "stream",
          "text": [
            "4\n"
          ],
          "name": "stdout"
        }
      ]
    },
    {
      "cell_type": "markdown",
      "metadata": {
        "id": "VGzp2SRorHpZ"
      },
      "source": [
        "PROBLEM WITH ABOVE FOR LOOP is, the LOOP may go through a billion iterations if the list has a billion values"
      ]
    },
    {
      "cell_type": "markdown",
      "metadata": {
        "id": "5z3MgvT19YF1"
      },
      "source": [
        "lsit = [3,5,6,4,7,1,8,9]\n",
        "\n",
        "This is list having 8 numbers\n",
        "\n",
        "list = n = 8\n",
        "\n",
        "k = 0 log(n)\n",
        "\n",
        "log2 8\n",
        "\n",
        "log2 2^3\n",
        "\n",
        "3 * log2 2\n",
        "\n",
        "3 iterations\n"
      ]
    }
  ]
}