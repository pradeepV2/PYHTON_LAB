{
  "nbformat": 4,
  "nbformat_minor": 0,
  "metadata": {
    "colab": {
      "name": "DS2. ARRAYS.ipynb",
      "provenance": [],
      "collapsed_sections": [],
      "authorship_tag": "ABX9TyMm1PUbYXZLRHnEI3VY98ab",
      "include_colab_link": true
    },
    "kernelspec": {
      "name": "python3",
      "display_name": "Python 3"
    },
    "language_info": {
      "name": "python"
    }
  },
  "cells": [
    {
      "cell_type": "markdown",
      "metadata": {
        "id": "view-in-github",
        "colab_type": "text"
      },
      "source": [
        "<a href=\"https://colab.research.google.com/github/pradeepV2/PYHTON_LAB/blob/master/DS2_ARRAYS.ipynb\" target=\"_parent\"><img src=\"https://colab.research.google.com/assets/colab-badge.svg\" alt=\"Open In Colab\"/></a>"
      ]
    },
    {
      "cell_type": "markdown",
      "metadata": {
        "id": "Hj1JKcBnY21R"
      },
      "source": [
        "# Stock price details of 5 days"
      ]
    },
    {
      "cell_type": "markdown",
      "metadata": {
        "id": "ys-gUAF1pgKQ"
      },
      "source": [
        "#1. FIND OUT THE STOCK PRICE BASED ON THE INDEX POSITION"
      ]
    },
    {
      "cell_type": "code",
      "metadata": {
        "colab": {
          "base_uri": "https://localhost:8080/"
        },
        "id": "7XRXic9yY4vW",
        "outputId": "d0a81fc6-5ddf-4799-8afb-66642afb4cbf"
      },
      "source": [
        "stock_price = [232,342,453,56, 876, 1237, 980]\n",
        "print(stock_price)\n",
        "\n",
        "# IF we want to find the price of Day-4\n",
        "stock_price[3]\n",
        "print(\"TOTAL STOCCK PRICE OF DAY-5 is : \" , stock_price[3])\n",
        "\n",
        "\n",
        "# IF we want to find the price of Day-7\n",
        "stock_price[6]\n",
        "print(\"TOTAL STOCCK PRICE OF DAY-6 is : \" , stock_price[6])\n"
      ],
      "execution_count": 6,
      "outputs": [
        {
          "output_type": "stream",
          "text": [
            "[232, 342, 453, 56, 876, 1237, 980]\n",
            "TOTAL STOCCK PRICE OF DAY-5 is :  56\n",
            "TOTAL STOCCK PRICE OF DAY-6 is :  980\n"
          ],
          "name": "stdout"
        }
      ]
    },
    {
      "cell_type": "markdown",
      "metadata": {
        "id": "1bsbEJwraiVt"
      },
      "source": [
        " INDEX of an ARRAY starts with zero\n"
      ]
    },
    {
      "cell_type": "markdown",
      "metadata": {
        "id": "6lU5BC-2bA-e"
      },
      "source": [
        "#Distribution of values inside the RAM (memory) will be as below \n",
        "\n",
        "298 -> 0x00500 ;\n",
        "342 -> 0x00504 ;\n",
        "453 -> 0x00508 ;\n",
        "56  -> 0x0050A ;\n",
        "876 -> 0x0050E ;\n",
        "123 -> 0x0050I ;\n",
        "980 -> 0x0050M "
      ]
    },
    {
      "cell_type": "markdown",
      "metadata": {
        "id": "XgaHShLNd3mE"
      },
      "source": [
        "# These hexadecimal values are the addresses on the RAM\n",
        " "
      ]
    },
    {
      "cell_type": "markdown",
      "metadata": {
        "id": "3ztk55ozeZN8"
      },
      "source": [
        "298 = 100101010\n",
        "\n",
        "# Integers are stored in 4 bytes\n",
        "\n",
        "For example, 4 byte equivalent value of 298 : -\n",
        "298 = 00000000 00000000 00000001 00101010"
      ]
    },
    {
      "cell_type": "markdown",
      "metadata": {
        "id": "JO6IcsHCfk1A"
      },
      "source": [
        "#1 Byte = 8 Bits"
      ]
    },
    {
      "cell_type": "markdown",
      "metadata": {
        "id": "338BnqNIgheH"
      },
      "source": [
        "298 -> 0x00500 ;\n",
        "342 -> 0x00504 ;\n",
        "453 -> 0x00508 ;\n",
        "56  -> 0x0050A ;\n",
        "876 -> 0x0050E ;\n",
        "123 -> 0x0050I ;\n",
        "980 -> 0x0050M "
      ]
    },
    {
      "cell_type": "code",
      "metadata": {
        "id": "Cnv38Gu6deTf"
      },
      "source": [
        ""
      ],
      "execution_count": 8,
      "outputs": []
    },
    {
      "cell_type": "markdown",
      "metadata": {
        "id": "KobRsdv2iewl"
      },
      "source": [
        "0x00500 -> 00000000\n",
        "0x00501 -> 00000000\n",
        "0x00502 -> 00000001\n",
        "0x00503 -> 00101010\n",
        "\n",
        "0x00504 -> 00000000\n",
        "0x00504 -> 00000000\n",
        "0x00504 -> 00000001\n",
        "0x00504 -> 01010110\n",
        "\n",
        "\n",
        "0x00508\n",
        "0x0050A\n",
        "0x0050E\n",
        "0x0050I\n",
        "0x0050M\n"
      ]
    },
    {
      "cell_type": "markdown",
      "metadata": {
        "id": "u3NSg1zeigbJ"
      },
      "source": [
        "# The index lookup for an array here, will be an order of 1\n",
        "# Becuase we were looking up for the values based on index position this is "
      ]
    },
    {
      "cell_type": "markdown",
      "metadata": {
        "id": "rAAvP41tjp1G"
      },
      "source": [
        "# SCENARIO -2 "
      ]
    },
    {
      "cell_type": "markdown",
      "metadata": {
        "id": "dAkfj-OPj_r_"
      },
      "source": [
        "FIND OUT THE POSITION OF THE VALUE IN AN ARRAY"
      ]
    },
    {
      "cell_type": "markdown",
      "metadata": {
        "id": "S3gGs_TJk8f1"
      },
      "source": [
        "# On what day the stock price is 1237, here we are not looking by Index but we are looking by value\n",
        "\n"
      ]
    },
    {
      "cell_type": "code",
      "metadata": {
        "id": "pZdiEse-ksBF"
      },
      "source": [
        "# Let's try that using a simple FOR LOOP, we will ierate the values one by one check the opoition"
      ],
      "execution_count": null,
      "outputs": []
    },
    {
      "cell_type": "code",
      "metadata": {
        "colab": {
          "base_uri": "https://localhost:8080/"
        },
        "id": "BOMDn6S6ib55",
        "outputId": "bb6c2d53-ae23-4bd1-f65d-3687da7ed1b8"
      },
      "source": [
        "stocks = [232, 342, 453, 56, 876, 1237, 980]\n",
        "\n",
        "for i in range(len(stocks)) :\n",
        "  if stocks[i] == 1237 :\n",
        "    print(i) "
      ],
      "execution_count": 27,
      "outputs": [
        {
          "output_type": "stream",
          "text": [
            "5\n"
          ],
          "name": "stdout"
        }
      ]
    },
    {
      "cell_type": "markdown",
      "metadata": {
        "id": "2Tz-idKqnw8k"
      },
      "source": [
        "# Here, we have performed N - number of Iterations using this FOR LOOP"
      ]
    },
    {
      "cell_type": "markdown",
      "metadata": {
        "id": "Y8G2wAjEou3v"
      },
      "source": [
        "# If there are more numbers in an ARRAY and the required number is present in the last position of an ARRAY, then the LOOP iterates for the maximum number of iterations, i.e., equal to the length of an ARRAY"
      ]
    },
    {
      "cell_type": "markdown",
      "metadata": {
        "id": "MGcw4npIp2J5"
      },
      "source": [
        "# SCENARIO :- 3 # PRINT ALL PRICES \n"
      ]
    },
    {
      "cell_type": "code",
      "metadata": {
        "colab": {
          "base_uri": "https://localhost:8080/"
        },
        "id": "yKGoaYlSoq3m",
        "outputId": "a9f465a3-3930-49bf-e589-ba1af9b8730c"
      },
      "source": [
        "stocks = [232, 342, 453, 56, 876, 1237, 980]\n",
        "\n",
        "for i in stocks :\n",
        "  print(i)"
      ],
      "execution_count": 29,
      "outputs": [
        {
          "output_type": "stream",
          "text": [
            "232\n",
            "342\n",
            "453\n",
            "56\n",
            "876\n",
            "1237\n",
            "980\n"
          ],
          "name": "stdout"
        }
      ]
    },
    {
      "cell_type": "code",
      "metadata": {
        "id": "aiztkC69qDvQ"
      },
      "source": [
        "# Here also, the LOOP iterates for all the values in the LIST"
      ],
      "execution_count": 30,
      "outputs": []
    },
    {
      "cell_type": "markdown",
      "metadata": {
        "id": "44ls8MKyqVI5"
      },
      "source": [
        "# Complexity of this program is also order of N\n"
      ]
    },
    {
      "cell_type": "markdown",
      "metadata": {
        "id": "1aVK84rRqso6"
      },
      "source": [
        ""
      ]
    },
    {
      "cell_type": "markdown",
      "metadata": {
        "id": "k58s798pqwKL"
      },
      "source": [
        "# SCENARIO - 4 # Insert a value based on index\n"
      ]
    },
    {
      "cell_type": "code",
      "metadata": {
        "colab": {
          "base_uri": "https://localhost:8080/"
        },
        "id": "3Z1A8Vijqwxt",
        "outputId": "c52f80af-8ba5-4f09-aa34-e3bdfefaa43c"
      },
      "source": [
        "stocks = [232, 342, 453, 56, 876, 1237, 980]\n",
        "stocks.insert(1, 222)\n",
        "stocks"
      ],
      "execution_count": 2,
      "outputs": [
        {
          "output_type": "execute_result",
          "data": {
            "text/plain": [
              "[232, 222, 342, 453, 56, 876, 1237, 980]"
            ]
          },
          "metadata": {
            "tags": []
          },
          "execution_count": 2
        }
      ]
    },
    {
      "cell_type": "markdown",
      "metadata": {
        "id": "hWrJ6QN_rWb0"
      },
      "source": [
        "Here, the value 222 is inserted at the index-2 and all the other values were shifted\n",
        "Hence, N- number of positions were shifted and hence it is inthe order of N"
      ]
    },
    {
      "cell_type": "code",
      "metadata": {
        "colab": {
          "base_uri": "https://localhost:8080/"
        },
        "id": "f8i-3sDtrWx7",
        "outputId": "f0d65433-8de0-46f8-a76a-b9f08808673d"
      },
      "source": [
        "#SCENARIO - 5 : DELETE AN ELEMENT FROM AN ARRAY\n",
        "stocks\n",
        "\n",
        "stocks.pop(1)\n",
        "\n",
        "stocks\n"
      ],
      "execution_count": 3,
      "outputs": [
        {
          "output_type": "execute_result",
          "data": {
            "text/plain": [
              "[232, 342, 453, 56, 876, 1237, 980]"
            ]
          },
          "metadata": {
            "tags": []
          },
          "execution_count": 3
        }
      ]
    },
    {
      "cell_type": "code",
      "metadata": {
        "id": "zAsfYL4Hrizp"
      },
      "source": [
        ""
      ],
      "execution_count": null,
      "outputs": []
    }
  ]
}