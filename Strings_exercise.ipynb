{
  "nbformat": 4,
  "nbformat_minor": 0,
  "metadata": {
    "colab": {
      "name": "Strings .ipynb",
      "provenance": [],
      "collapsed_sections": []
    },
    "kernelspec": {
      "name": "python3",
      "display_name": "Python 3"
    },
    "language_info": {
      "name": "python"
    }
  },
  "cells": [
    {
      "cell_type": "markdown",
      "metadata": {
        "id": "gEXAX0b-DUvg"
      },
      "source": [
        "Create 3 variables to store street, city and country, now create address variable to store entire address. Use two ways of creating this variable, one using + operator and the other using f-string. Now Print the address in such a way that the street, city and country prints in a separate line\n"
      ]
    },
    {
      "cell_type": "code",
      "metadata": {
        "colab": {
          "base_uri": "https://localhost:8080/"
        },
        "id": "xQNbJ8ULDVbO",
        "outputId": "6813d1ae-7251-48a9-f2f5-407edb4143d0"
      },
      "source": [
        "stre =\"A\"\n",
        "street = \"B\"\n",
        "city = \"C\"\n",
        "country = \"us\"\n",
        "address = ''' stre \\n street \\n city \\n country '''\n",
        "address\n",
        "print(address)\n"
      ],
      "execution_count": 18,
      "outputs": [
        {
          "output_type": "stream",
          "text": [
            " stre \n",
            " street \n",
            " city \n",
            " country \n"
          ],
          "name": "stdout"
        }
      ]
    },
    {
      "cell_type": "code",
      "metadata": {
        "id": "QfDO95RxFkN3",
        "colab": {
          "base_uri": "https://localhost:8080/"
        },
        "outputId": "d38ab11b-6174-47e1-bdc4-ff9b13b9f4dc"
      },
      "source": [
        "street = \"13 patli gali\"\n",
        "city = \"New Delhi\"\n",
        "country = \"India\"\n",
        "\n",
        "address1 = street + '\\n' + city + '\\n' + country\n",
        "print(address1)\n",
        "\n",
        "address2 = f'{street}\\n{city}\\n{country}'\n",
        "print(address2)"
      ],
      "execution_count": 20,
      "outputs": [
        {
          "output_type": "stream",
          "text": [
            "13 patli gali\n",
            "New Delhi\n",
            "India\n",
            "13 patli gali\n",
            "New Delhi\n",
            "India\n"
          ],
          "name": "stdout"
        }
      ]
    },
    {
      "cell_type": "markdown",
      "metadata": {
        "id": "tQ43CgMs6Lwu"
      },
      "source": [
        "\n",
        "Create a variable to store the string \"Earth revolves around the sun\"\n",
        "Print \"revolves\" using slice operator\n",
        "Print \"sun\" using negative index.\n",
        "\n",
        "\n",
        "I have a string variable called s='maine 200 banana khaye'. This of course is a wrong statement, the correct statement is 'maine 10 samosa khaye'. Replace incorrect words in original strong with new ones and print the new string. Also try to do this in one line.\n"
      ]
    },
    {
      "cell_type": "code",
      "metadata": {
        "colab": {
          "base_uri": "https://localhost:8080/",
          "height": 35
        },
        "id": "eKiXKUXG6iJ3",
        "outputId": "21097a07-baad-414d-948a-e7de117d33b6"
      },
      "source": [
        "earth_var = \"Earth revolves around the sun\"\n",
        "earth_var[-3:] "
      ],
      "execution_count": 23,
      "outputs": [
        {
          "output_type": "execute_result",
          "data": {
            "application/vnd.google.colaboratory.intrinsic+json": {
              "type": "string"
            },
            "text/plain": [
              "'sun'"
            ]
          },
          "metadata": {
            "tags": []
          },
          "execution_count": 23
        }
      ]
    },
    {
      "cell_type": "markdown",
      "metadata": {
        "id": "FUl-w_F2635l"
      },
      "source": [
        "\n",
        "\n",
        "Create two variables to store how many fruits and vegetables you eat in a day. Now Print \"I eat x veggies and y fruits daily\" where x and y presents vegetables and fruits that you eat everyday. Use python f string for this.\n"
      ]
    },
    {
      "cell_type": "code",
      "metadata": {
        "id": "krBfHSekEV6L",
        "colab": {
          "base_uri": "https://localhost:8080/"
        },
        "outputId": "5ce4dba5-0cad-4550-9793-e386e3cf9458"
      },
      "source": [
        "x = 3\n",
        "y = 4\n",
        "diet = print(f'I eat {x} veggies and {y} fruits daily') \n",
        "diet\n"
      ],
      "execution_count": 29,
      "outputs": [
        {
          "output_type": "stream",
          "text": [
            "I eat 3 veggies and 4 fruits daily\n"
          ],
          "name": "stdout"
        }
      ]
    },
    {
      "cell_type": "code",
      "metadata": {
        "colab": {
          "base_uri": "https://localhost:8080/"
        },
        "id": "CjqSl-Vh7L4q",
        "outputId": "169d12ca-78f2-46d9-e1ad-4da8c4eca9c4"
      },
      "source": [
        "s='hey\\nbuddy, Whatzzzup'\n",
        "print(s)"
      ],
      "execution_count": 32,
      "outputs": [
        {
          "output_type": "stream",
          "text": [
            "hey\n",
            "buddy, Whatzzzup\n"
          ],
          "name": "stdout"
        }
      ]
    },
    {
      "cell_type": "code",
      "metadata": {
        "id": "F6CWeDJl9MNX"
      },
      "source": [
        ""
      ],
      "execution_count": null,
      "outputs": []
    }
  ]
}